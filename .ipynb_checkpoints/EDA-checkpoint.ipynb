{
 "cells": [
  {
   "cell_type": "code",
   "execution_count": 304,
   "id": "9aa9d578-e932-44dd-984d-28f689298b4f",
   "metadata": {},
   "outputs": [],
   "source": [
    "import pandas as pd\n",
    "import numpy as np"
   ]
  },
  {
   "cell_type": "code",
   "execution_count": 2,
   "id": "d02e01b5-64ce-4bb8-8795-9559a6214bb3",
   "metadata": {},
   "outputs": [],
   "source": [
    "amazon = pd.read_csv(\"amazon.csv\")"
   ]
  },
  {
   "cell_type": "code",
   "execution_count": 435,
   "id": "248dac31-e0e4-4d6e-b7bf-6803efd14fd6",
   "metadata": {},
   "outputs": [
    {
     "data": {
      "text/html": [
       "<div>\n",
       "<style scoped>\n",
       "    .dataframe tbody tr th:only-of-type {\n",
       "        vertical-align: middle;\n",
       "    }\n",
       "\n",
       "    .dataframe tbody tr th {\n",
       "        vertical-align: top;\n",
       "    }\n",
       "\n",
       "    .dataframe thead th {\n",
       "        text-align: right;\n",
       "    }\n",
       "</style>\n",
       "<table border=\"1\" class=\"dataframe\">\n",
       "  <thead>\n",
       "    <tr style=\"text-align: right;\">\n",
       "      <th></th>\n",
       "      <th>Name</th>\n",
       "      <th>Author</th>\n",
       "      <th>User Rating</th>\n",
       "      <th>Reviews</th>\n",
       "      <th>Price</th>\n",
       "      <th>Price_r</th>\n",
       "      <th>Year</th>\n",
       "      <th>Genre</th>\n",
       "    </tr>\n",
       "  </thead>\n",
       "  <tbody>\n",
       "    <tr>\n",
       "      <th>608</th>\n",
       "      <td>Unbroken: A World War II Story of Survival, Re...</td>\n",
       "      <td>Laura Hillenbrand</td>\n",
       "      <td>4.8</td>\n",
       "      <td>29673</td>\n",
       "      <td>$16.00</td>\n",
       "      <td>16</td>\n",
       "      <td>2010</td>\n",
       "      <td>Non Fiction</td>\n",
       "    </tr>\n",
       "    <tr>\n",
       "      <th>609</th>\n",
       "      <td>Unbroken: A World War II Story of Survival, Re...</td>\n",
       "      <td>Laura Hillenbrand</td>\n",
       "      <td>4.8</td>\n",
       "      <td>29673</td>\n",
       "      <td>$16.00</td>\n",
       "      <td>16</td>\n",
       "      <td>2011</td>\n",
       "      <td>Non Fiction</td>\n",
       "    </tr>\n",
       "    <tr>\n",
       "      <th>610</th>\n",
       "      <td>Unbroken: A World War II Story of Survival, Re...</td>\n",
       "      <td>Laura Hillenbrand</td>\n",
       "      <td>4.8</td>\n",
       "      <td>29673</td>\n",
       "      <td>$16.00</td>\n",
       "      <td>16</td>\n",
       "      <td>2012</td>\n",
       "      <td>Non Fiction</td>\n",
       "    </tr>\n",
       "    <tr>\n",
       "      <th>611</th>\n",
       "      <td>Unbroken: A World War II Story of Survival, Re...</td>\n",
       "      <td>Laura Hillenbrand</td>\n",
       "      <td>4.8</td>\n",
       "      <td>29673</td>\n",
       "      <td>$13.00</td>\n",
       "      <td>13</td>\n",
       "      <td>2014</td>\n",
       "      <td>Non Fiction</td>\n",
       "    </tr>\n",
       "    <tr>\n",
       "      <th>612</th>\n",
       "      <td>Unbroken: A World War II Story of Survival, Re...</td>\n",
       "      <td>Laura Hillenbrand</td>\n",
       "      <td>4.8</td>\n",
       "      <td>29673</td>\n",
       "      <td>$16.00</td>\n",
       "      <td>16</td>\n",
       "      <td>2014</td>\n",
       "      <td>Non Fiction</td>\n",
       "    </tr>\n",
       "  </tbody>\n",
       "</table>\n",
       "</div>"
      ],
      "text/plain": [
       "                                                  Name             Author  \\\n",
       "608  Unbroken: A World War II Story of Survival, Re...  Laura Hillenbrand   \n",
       "609  Unbroken: A World War II Story of Survival, Re...  Laura Hillenbrand   \n",
       "610  Unbroken: A World War II Story of Survival, Re...  Laura Hillenbrand   \n",
       "611  Unbroken: A World War II Story of Survival, Re...  Laura Hillenbrand   \n",
       "612  Unbroken: A World War II Story of Survival, Re...  Laura Hillenbrand   \n",
       "\n",
       "     User Rating  Reviews   Price  Price_r  Year        Genre  \n",
       "608          4.8    29673  $16.00       16  2010  Non Fiction  \n",
       "609          4.8    29673  $16.00       16  2011  Non Fiction  \n",
       "610          4.8    29673  $16.00       16  2012  Non Fiction  \n",
       "611          4.8    29673  $13.00       13  2014  Non Fiction  \n",
       "612          4.8    29673  $16.00       16  2014  Non Fiction  "
      ]
     },
     "execution_count": 435,
     "metadata": {},
     "output_type": "execute_result"
    }
   ],
   "source": [
    "amazon[amazon['Author'] == \"Laura Hillenbrand\"]"
   ]
  },
  {
   "cell_type": "markdown",
   "id": "c193c2b3-9287-4515-9c07-a20c12f2ab7a",
   "metadata": {},
   "source": [
    "## Preguntas"
   ]
  },
  {
   "cell_type": "markdown",
   "id": "134b9c88-6ee3-4225-bdd1-c09c93e41d53",
   "metadata": {},
   "source": [
    "Por año cuantos libros ha publicado un autor, recuerde que los años no trabajados deberia de aparecer en cero. considere como primer registro por autor el primer año en que publico y el ultimo el año maximo encontrado.\n",
    "\n",
    "Ejemplo, si Uayeb public en 2009 dos libros, y en 2011 tres. y esas son las dos unicas entradas para este autor. la salida para el deberia de ser:"
   ]
  },
  {
   "cell_type": "code",
   "execution_count": 30,
   "id": "1c5c4e7e-4e28-491f-a8e7-c13f3c39d9c7",
   "metadata": {},
   "outputs": [
    {
     "data": {
      "text/html": [
       "<div>\n",
       "<style scoped>\n",
       "    .dataframe tbody tr th:only-of-type {\n",
       "        vertical-align: middle;\n",
       "    }\n",
       "\n",
       "    .dataframe tbody tr th {\n",
       "        vertical-align: top;\n",
       "    }\n",
       "\n",
       "    .dataframe thead th {\n",
       "        text-align: right;\n",
       "    }\n",
       "</style>\n",
       "<table border=\"1\" class=\"dataframe\">\n",
       "  <thead>\n",
       "    <tr style=\"text-align: right;\">\n",
       "      <th></th>\n",
       "      <th>Autor</th>\n",
       "      <th>Year</th>\n",
       "      <th>Conteo</th>\n",
       "    </tr>\n",
       "  </thead>\n",
       "  <tbody>\n",
       "    <tr>\n",
       "      <th>0</th>\n",
       "      <td>Uayeb</td>\n",
       "      <td>2009</td>\n",
       "      <td>2</td>\n",
       "    </tr>\n",
       "    <tr>\n",
       "      <th>1</th>\n",
       "      <td>Uayeb</td>\n",
       "      <td>2010</td>\n",
       "      <td>0</td>\n",
       "    </tr>\n",
       "    <tr>\n",
       "      <th>2</th>\n",
       "      <td>Uayeb</td>\n",
       "      <td>2011</td>\n",
       "      <td>3</td>\n",
       "    </tr>\n",
       "  </tbody>\n",
       "</table>\n",
       "</div>"
      ],
      "text/plain": [
       "   Autor  Year  Conteo\n",
       "0  Uayeb  2009       2\n",
       "1  Uayeb  2010       0\n",
       "2  Uayeb  2011       3"
      ]
     },
     "execution_count": 30,
     "metadata": {},
     "output_type": "execute_result"
    }
   ],
   "source": [
    "pd.DataFrame({ \"Autor\" : [\"Uayeb\",\"Uayeb\",\"Uayeb\"] , \"Year\" : [2009,2010,2011]  , \"Conteo\" : [2,0,3] })"
   ]
  },
  {
   "cell_type": "code",
   "execution_count": 82,
   "id": "f06f52e8-0b6e-4853-9544-61786d5c7b99",
   "metadata": {},
   "outputs": [
    {
     "data": {
      "text/plain": [
       "0     2016\n",
       "1     2011\n",
       "2     2018\n",
       "3     2021\n",
       "4     2017\n",
       "5     2019\n",
       "7     2014\n",
       "12    2010\n",
       "13    2020\n",
       "16    2009\n",
       "18    2015\n",
       "24    2013\n",
       "37    2012\n",
       "Name: Year, dtype: int64"
      ]
     },
     "execution_count": 82,
     "metadata": {},
     "output_type": "execute_result"
    }
   ],
   "source": [
    "amazon['Year'].drop_duplicates()"
   ]
  },
  {
   "cell_type": "code",
   "execution_count": 234,
   "id": "9e6a2741-6edb-4f26-807d-4500e1ba2440",
   "metadata": {},
   "outputs": [],
   "source": [
    "sol_ = amazon.groupby( [\"Author\", \"Year\"], as_index = False ).agg({ 'Name' : ['count'] })\n",
    "sol_.columns = sol_.columns.droplevel(1)\n",
    "sol_.columns = [\"Author\", \"Year\", \"Conteo\"]"
   ]
  },
  {
   "cell_type": "code",
   "execution_count": 235,
   "id": "f3ac1163-a471-4664-ac4f-931d286144ab",
   "metadata": {},
   "outputs": [],
   "source": [
    "tmp_ = sol_.groupby( by = \"Author\", as_index = False).agg( {'Year' : ['min', 'max'] })\n",
    "tmp_.columns = tmp_.columns.droplevel(1)\n",
    "tmp_.columns = [\"Author\", \"Min Year\", \"Max Year\"]"
   ]
  },
  {
   "cell_type": "code",
   "execution_count": 236,
   "id": "ac5d9e49-a1c7-462a-95b5-2f8ff33270e0",
   "metadata": {},
   "outputs": [],
   "source": [
    "for author_ in sol_.loc[ :, 'Author'].drop_duplicates():\n",
    "    for anio_ in amazon.loc[ :, 'Year' ].drop_duplicates():\n",
    "        datatmp = tmp_.loc[tmp_['Author'] == author_, :] ## Cargamos temporalmente la data del autor\n",
    "        for anioMax in datatmp.loc[:, 'Max Year']: ## Obtenemos el año máximo de ese autor\n",
    "            continue\n",
    "        for anioMin in datatmp.loc[:, 'Min Year']: ## Obtenemos el año minimo de ese autor\n",
    "            continue\n",
    "        if ((anio_ >= anioMin) & (anio_ <= anioMax)):\n",
    "            dataTMP = sol_.loc[ (sol_['Author'] == author_) & (sol_['Year'] == anio_), : ]\n",
    "            if dataTMP.empty:\n",
    "                aniosNoJob = pd.DataFrame({\n",
    "                    'Author' : [author_],\n",
    "                    'Year' : [anio_],\n",
    "                    'Conteo' : [0]\n",
    "                })\n",
    "                sol_ = pd.concat( [sol_,aniosNoJob] )\n",
    "        "
   ]
  },
  {
   "cell_type": "code",
   "execution_count": 237,
   "id": "1afef49f-28e5-4e16-8345-cfec637229f9",
   "metadata": {},
   "outputs": [],
   "source": [
    "sol_ = sol_.sort_values([\"Author\",\"Year\"], ascending = True) \n",
    "sol_.columns = [\"Autor\",\"Year\",\"Conteo\"] "
   ]
  },
  {
   "cell_type": "code",
   "execution_count": 238,
   "id": "347ca884-d6d2-4513-9c04-dab134cbc4d3",
   "metadata": {},
   "outputs": [
    {
     "data": {
      "text/html": [
       "<div>\n",
       "<style scoped>\n",
       "    .dataframe tbody tr th:only-of-type {\n",
       "        vertical-align: middle;\n",
       "    }\n",
       "\n",
       "    .dataframe tbody tr th {\n",
       "        vertical-align: top;\n",
       "    }\n",
       "\n",
       "    .dataframe thead th {\n",
       "        text-align: right;\n",
       "    }\n",
       "</style>\n",
       "<table border=\"1\" class=\"dataframe\">\n",
       "  <thead>\n",
       "    <tr style=\"text-align: right;\">\n",
       "      <th></th>\n",
       "      <th>Name</th>\n",
       "      <th>Author</th>\n",
       "      <th>User Rating</th>\n",
       "      <th>Reviews</th>\n",
       "      <th>Price</th>\n",
       "      <th>Price_r</th>\n",
       "      <th>Year</th>\n",
       "      <th>Genre</th>\n",
       "    </tr>\n",
       "  </thead>\n",
       "  <tbody>\n",
       "    <tr>\n",
       "      <th>459</th>\n",
       "      <td>The Girl Who Kicked the Hornet's Nest (Millenn...</td>\n",
       "      <td>Stieg Larsson</td>\n",
       "      <td>4.7</td>\n",
       "      <td>7747</td>\n",
       "      <td>$14.00</td>\n",
       "      <td>14</td>\n",
       "      <td>2010</td>\n",
       "      <td>Fiction</td>\n",
       "    </tr>\n",
       "    <tr>\n",
       "      <th>460</th>\n",
       "      <td>The Girl Who Kicked the Hornet's Nest (Millenn...</td>\n",
       "      <td>Stieg Larsson</td>\n",
       "      <td>4.7</td>\n",
       "      <td>7747</td>\n",
       "      <td>$14.00</td>\n",
       "      <td>14</td>\n",
       "      <td>2011</td>\n",
       "      <td>Fiction</td>\n",
       "    </tr>\n",
       "    <tr>\n",
       "      <th>461</th>\n",
       "      <td>The Girl Who Played with Fire (Millennium Series)</td>\n",
       "      <td>Stieg Larsson</td>\n",
       "      <td>4.7</td>\n",
       "      <td>7251</td>\n",
       "      <td>$9.00</td>\n",
       "      <td>9</td>\n",
       "      <td>2010</td>\n",
       "      <td>Fiction</td>\n",
       "    </tr>\n",
       "    <tr>\n",
       "      <th>462</th>\n",
       "      <td>The Girl Who Played with Fire (Millennium)</td>\n",
       "      <td>Stieg Larsson</td>\n",
       "      <td>4.7</td>\n",
       "      <td>7251</td>\n",
       "      <td>$16.00</td>\n",
       "      <td>16</td>\n",
       "      <td>2009</td>\n",
       "      <td>Fiction</td>\n",
       "    </tr>\n",
       "    <tr>\n",
       "      <th>463</th>\n",
       "      <td>The Girl with the Dragon Tattoo (Millennium Se...</td>\n",
       "      <td>Stieg Larsson</td>\n",
       "      <td>4.4</td>\n",
       "      <td>10559</td>\n",
       "      <td>$2.00</td>\n",
       "      <td>2</td>\n",
       "      <td>2009</td>\n",
       "      <td>Fiction</td>\n",
       "    </tr>\n",
       "    <tr>\n",
       "      <th>464</th>\n",
       "      <td>The Girl with the Dragon Tattoo (Millennium Se...</td>\n",
       "      <td>Stieg Larsson</td>\n",
       "      <td>4.4</td>\n",
       "      <td>10559</td>\n",
       "      <td>$2.00</td>\n",
       "      <td>2</td>\n",
       "      <td>2010</td>\n",
       "      <td>Fiction</td>\n",
       "    </tr>\n",
       "  </tbody>\n",
       "</table>\n",
       "</div>"
      ],
      "text/plain": [
       "                                                  Name         Author  \\\n",
       "459  The Girl Who Kicked the Hornet's Nest (Millenn...  Stieg Larsson   \n",
       "460  The Girl Who Kicked the Hornet's Nest (Millenn...  Stieg Larsson   \n",
       "461  The Girl Who Played with Fire (Millennium Series)  Stieg Larsson   \n",
       "462         The Girl Who Played with Fire (Millennium)  Stieg Larsson   \n",
       "463  The Girl with the Dragon Tattoo (Millennium Se...  Stieg Larsson   \n",
       "464  The Girl with the Dragon Tattoo (Millennium Se...  Stieg Larsson   \n",
       "\n",
       "     User Rating  Reviews   Price  Price_r  Year    Genre  \n",
       "459          4.7     7747  $14.00       14  2010  Fiction  \n",
       "460          4.7     7747  $14.00       14  2011  Fiction  \n",
       "461          4.7     7251   $9.00        9  2010  Fiction  \n",
       "462          4.7     7251  $16.00       16  2009  Fiction  \n",
       "463          4.4    10559   $2.00        2  2009  Fiction  \n",
       "464          4.4    10559   $2.00        2  2010  Fiction  "
      ]
     },
     "execution_count": 238,
     "metadata": {},
     "output_type": "execute_result"
    }
   ],
   "source": [
    "amazon[ amazon['Author'] == \"Stieg Larsson\" ] ## Para mostrar la información de Stieg Larsson, con la data sin manipular"
   ]
  },
  {
   "cell_type": "code",
   "execution_count": 239,
   "id": "58920439-7b7e-48e0-a1a8-904a53750f0c",
   "metadata": {},
   "outputs": [
    {
     "data": {
      "text/html": [
       "<div>\n",
       "<style scoped>\n",
       "    .dataframe tbody tr th:only-of-type {\n",
       "        vertical-align: middle;\n",
       "    }\n",
       "\n",
       "    .dataframe tbody tr th {\n",
       "        vertical-align: top;\n",
       "    }\n",
       "\n",
       "    .dataframe thead th {\n",
       "        text-align: right;\n",
       "    }\n",
       "</style>\n",
       "<table border=\"1\" class=\"dataframe\">\n",
       "  <thead>\n",
       "    <tr style=\"text-align: right;\">\n",
       "      <th></th>\n",
       "      <th>Autor</th>\n",
       "      <th>Year</th>\n",
       "      <th>Conteo</th>\n",
       "    </tr>\n",
       "  </thead>\n",
       "  <tbody>\n",
       "    <tr>\n",
       "      <th>0</th>\n",
       "      <td>Abraham Verghese</td>\n",
       "      <td>2010</td>\n",
       "      <td>1</td>\n",
       "    </tr>\n",
       "    <tr>\n",
       "      <th>1</th>\n",
       "      <td>Abraham Verghese</td>\n",
       "      <td>2011</td>\n",
       "      <td>1</td>\n",
       "    </tr>\n",
       "  </tbody>\n",
       "</table>\n",
       "</div>"
      ],
      "text/plain": [
       "              Autor  Year  Conteo\n",
       "0  Abraham Verghese  2010       1\n",
       "1  Abraham Verghese  2011       1"
      ]
     },
     "execution_count": 239,
     "metadata": {},
     "output_type": "execute_result"
    }
   ],
   "source": [
    "sol_[ sol_['Autor'] == \"Abraham Verghese\" ] ## Para mostrar la información de Stieg Larsson, con la data manipulada "
   ]
  },
  {
   "cell_type": "code",
   "execution_count": 241,
   "id": "d3759a6e-8c1d-4b5f-8bbb-44105af5673b",
   "metadata": {},
   "outputs": [
    {
     "data": {
      "text/plain": [
       "(712, 3)"
      ]
     },
     "execution_count": 241,
     "metadata": {},
     "output_type": "execute_result"
    }
   ],
   "source": [
    "sol_.shape"
   ]
  },
  {
   "cell_type": "markdown",
   "id": "ef702157-4d96-48b5-b9eb-f43136f8fc91",
   "metadata": {},
   "source": [
    "Que Autores han trabado en un año en mas de un libro\n",
    "\n",
    "Ejemplo de salida esperada:"
   ]
  },
  {
   "cell_type": "code",
   "execution_count": 23,
   "id": "8329a903-1ec3-4e68-8ff8-0720e2567732",
   "metadata": {},
   "outputs": [
    {
     "data": {
      "text/html": [
       "<div>\n",
       "<style scoped>\n",
       "    .dataframe tbody tr th:only-of-type {\n",
       "        vertical-align: middle;\n",
       "    }\n",
       "\n",
       "    .dataframe tbody tr th {\n",
       "        vertical-align: top;\n",
       "    }\n",
       "\n",
       "    .dataframe thead th {\n",
       "        text-align: right;\n",
       "    }\n",
       "</style>\n",
       "<table border=\"1\" class=\"dataframe\">\n",
       "  <thead>\n",
       "    <tr style=\"text-align: right;\">\n",
       "      <th></th>\n",
       "      <th>Autor</th>\n",
       "      <th>Year</th>\n",
       "      <th>Conteo de Titulos</th>\n",
       "    </tr>\n",
       "  </thead>\n",
       "  <tbody>\n",
       "    <tr>\n",
       "      <th>0</th>\n",
       "      <td>Uayeb</td>\n",
       "      <td>2010</td>\n",
       "      <td>2</td>\n",
       "    </tr>\n",
       "    <tr>\n",
       "      <th>1</th>\n",
       "      <td>Imix</td>\n",
       "      <td>2010</td>\n",
       "      <td>3</td>\n",
       "    </tr>\n",
       "  </tbody>\n",
       "</table>\n",
       "</div>"
      ],
      "text/plain": [
       "   Autor  Year  Conteo de Titulos\n",
       "0  Uayeb  2010                  2\n",
       "1   Imix  2010                  3"
      ]
     },
     "execution_count": 23,
     "metadata": {},
     "output_type": "execute_result"
    }
   ],
   "source": [
    "pd.DataFrame({\n",
    "    \n",
    "    \"Autor\" : ['Uayeb','Imix']\n",
    "    , \"Year\" : [2010, 2010]\n",
    "    , \"Conteo de Titulos\" : [2 , 3]\n",
    "    \n",
    "})"
   ]
  },
  {
   "cell_type": "code",
   "execution_count": 89,
   "id": "da05e917-8f5d-4cba-a82c-be7e76c1eabb",
   "metadata": {},
   "outputs": [],
   "source": [
    "sol2_ = sol_.loc[ sol_['Conteo'] > 1, : ]"
   ]
  },
  {
   "cell_type": "code",
   "execution_count": 95,
   "id": "ed484aff-43af-4209-b796-686664510074",
   "metadata": {},
   "outputs": [],
   "source": [
    "sol2_.columns = [\"Autor\", \"Year\", \"Conteo de Titulos\"]"
   ]
  },
  {
   "cell_type": "code",
   "execution_count": 436,
   "id": "61c1f5b7-ded8-4f17-9957-faddddadb966",
   "metadata": {},
   "outputs": [
    {
     "data": {
      "text/html": [
       "<div>\n",
       "<style scoped>\n",
       "    .dataframe tbody tr th:only-of-type {\n",
       "        vertical-align: middle;\n",
       "    }\n",
       "\n",
       "    .dataframe tbody tr th {\n",
       "        vertical-align: top;\n",
       "    }\n",
       "\n",
       "    .dataframe thead th {\n",
       "        text-align: right;\n",
       "    }\n",
       "</style>\n",
       "<table border=\"1\" class=\"dataframe\">\n",
       "  <thead>\n",
       "    <tr style=\"text-align: right;\">\n",
       "      <th></th>\n",
       "      <th>Autor</th>\n",
       "      <th>Year</th>\n",
       "      <th>Conteo de Titulos</th>\n",
       "    </tr>\n",
       "  </thead>\n",
       "  <tbody>\n",
       "    <tr>\n",
       "      <th>5</th>\n",
       "      <td>Adam Wallace</td>\n",
       "      <td>2020</td>\n",
       "      <td>2</td>\n",
       "    </tr>\n",
       "    <tr>\n",
       "      <th>16</th>\n",
       "      <td>Amanda Gorman</td>\n",
       "      <td>2021</td>\n",
       "      <td>2</td>\n",
       "    </tr>\n",
       "    <tr>\n",
       "      <th>58</th>\n",
       "      <td>Bill Martin Jr.</td>\n",
       "      <td>2020</td>\n",
       "      <td>2</td>\n",
       "    </tr>\n",
       "    <tr>\n",
       "      <th>61</th>\n",
       "      <td>Bill O'Reilly</td>\n",
       "      <td>2012</td>\n",
       "      <td>2</td>\n",
       "    </tr>\n",
       "    <tr>\n",
       "      <th>67</th>\n",
       "      <td>Blue Star Coloring</td>\n",
       "      <td>2015</td>\n",
       "      <td>2</td>\n",
       "    </tr>\n",
       "  </tbody>\n",
       "</table>\n",
       "</div>"
      ],
      "text/plain": [
       "                 Autor  Year  Conteo de Titulos\n",
       "5         Adam Wallace  2020                  2\n",
       "16       Amanda Gorman  2021                  2\n",
       "58     Bill Martin Jr.  2020                  2\n",
       "61       Bill O'Reilly  2012                  2\n",
       "67  Blue Star Coloring  2015                  2"
      ]
     },
     "execution_count": 436,
     "metadata": {},
     "output_type": "execute_result"
    }
   ],
   "source": [
    "sol2_.head(5)"
   ]
  },
  {
   "cell_type": "markdown",
   "id": "7ad1e0d1-79a2-4cf1-b771-a5d817c4a91a",
   "metadata": {},
   "source": [
    "Que genero por año ha obtenido el mejor rating en promedio. (solo deberia de obtener un registro por año)\n",
    "\n",
    "- ejemplo de la salida esperada:"
   ]
  },
  {
   "cell_type": "code",
   "execution_count": 22,
   "id": "65ed338c-a353-4dd8-8268-7cdb9feccd18",
   "metadata": {},
   "outputs": [
    {
     "data": {
      "text/html": [
       "<div>\n",
       "<style scoped>\n",
       "    .dataframe tbody tr th:only-of-type {\n",
       "        vertical-align: middle;\n",
       "    }\n",
       "\n",
       "    .dataframe tbody tr th {\n",
       "        vertical-align: top;\n",
       "    }\n",
       "\n",
       "    .dataframe thead th {\n",
       "        text-align: right;\n",
       "    }\n",
       "</style>\n",
       "<table border=\"1\" class=\"dataframe\">\n",
       "  <thead>\n",
       "    <tr style=\"text-align: right;\">\n",
       "      <th></th>\n",
       "      <th>Year</th>\n",
       "      <th>Genre</th>\n",
       "      <th>Mean User Rating</th>\n",
       "    </tr>\n",
       "  </thead>\n",
       "  <tbody>\n",
       "    <tr>\n",
       "      <th>0</th>\n",
       "      <td>2009</td>\n",
       "      <td>Fiction</td>\n",
       "      <td>4.59</td>\n",
       "    </tr>\n",
       "    <tr>\n",
       "      <th>1</th>\n",
       "      <td>2010</td>\n",
       "      <td>Fiction</td>\n",
       "      <td>4.61</td>\n",
       "    </tr>\n",
       "  </tbody>\n",
       "</table>\n",
       "</div>"
      ],
      "text/plain": [
       "   Year    Genre  Mean User Rating\n",
       "0  2009  Fiction              4.59\n",
       "1  2010  Fiction              4.61"
      ]
     },
     "execution_count": 22,
     "metadata": {},
     "output_type": "execute_result"
    }
   ],
   "source": [
    "pd.DataFrame({\n",
    "    \"Year\" : [2009,2010]\n",
    "    , \"Genre\" : [ \"Fiction\" , \"Fiction\" ]\n",
    "    , \"Mean User Rating\": [ 4.59 , 4.61 ]\n",
    "})"
   ]
  },
  {
   "cell_type": "code",
   "execution_count": 440,
   "id": "3f24d586-3e52-496f-bbed-f8be6dc5d932",
   "metadata": {},
   "outputs": [
    {
     "data": {
      "text/plain": [
       "0    Non Fiction\n",
       "1        Fiction\n",
       "Name: Genre, dtype: object"
      ]
     },
     "execution_count": 440,
     "metadata": {},
     "output_type": "execute_result"
    }
   ],
   "source": [
    "amazon['Genre'].drop_duplicates()"
   ]
  },
  {
   "cell_type": "code",
   "execution_count": 441,
   "id": "cc863f34-ab0e-48dc-a4c2-34ed2d8d6a67",
   "metadata": {},
   "outputs": [],
   "source": [
    "sol3_ = amazon.groupby( [\"Genre\", \"Year\"], as_index = False ).agg( { 'User Rating' : ['mean'] } )\n",
    "sol3_.columns = sol3_.columns.droplevel(1)\n",
    "sol3_.columns = [\"Genre\", \"Year\", \"Mean User Rating\"]"
   ]
  },
  {
   "cell_type": "code",
   "execution_count": 442,
   "id": "8f2223cc-53e0-4bcb-b41f-feb7c5f7527e",
   "metadata": {},
   "outputs": [],
   "source": [
    "sol3_['Rank'] = sol3_.sort_values([\"Year\", \"Mean User Rating\"], ascending = [True, False]).groupby([\"Year\"]).cumcount()"
   ]
  },
  {
   "cell_type": "code",
   "execution_count": 443,
   "id": "b44c5f88-5d36-4351-9331-80a4b3b15c7a",
   "metadata": {},
   "outputs": [],
   "source": [
    "sol3_ = sol3_.loc[ sol3_['Rank'] == 0, [\"Year\", \"Genre\", \"Mean User Rating\"] ]"
   ]
  },
  {
   "cell_type": "code",
   "execution_count": 444,
   "id": "efdb1305-bca2-4cf7-a337-3c2fcbe88ece",
   "metadata": {},
   "outputs": [
    {
     "data": {
      "text/plain": [
       "(13, 3)"
      ]
     },
     "execution_count": 444,
     "metadata": {},
     "output_type": "execute_result"
    }
   ],
   "source": [
    "sol3_.shape"
   ]
  },
  {
   "cell_type": "code",
   "execution_count": 445,
   "id": "2db9936e-cbee-4f56-8a6d-37ea02e9e7e2",
   "metadata": {},
   "outputs": [
    {
     "data": {
      "text/html": [
       "<div>\n",
       "<style scoped>\n",
       "    .dataframe tbody tr th:only-of-type {\n",
       "        vertical-align: middle;\n",
       "    }\n",
       "\n",
       "    .dataframe tbody tr th {\n",
       "        vertical-align: top;\n",
       "    }\n",
       "\n",
       "    .dataframe thead th {\n",
       "        text-align: right;\n",
       "    }\n",
       "</style>\n",
       "<table border=\"1\" class=\"dataframe\">\n",
       "  <thead>\n",
       "    <tr style=\"text-align: right;\">\n",
       "      <th></th>\n",
       "      <th>Year</th>\n",
       "      <th>Genre</th>\n",
       "      <th>Mean User Rating</th>\n",
       "    </tr>\n",
       "  </thead>\n",
       "  <tbody>\n",
       "    <tr>\n",
       "      <th>0</th>\n",
       "      <td>2009</td>\n",
       "      <td>Fiction</td>\n",
       "      <td>4.591667</td>\n",
       "    </tr>\n",
       "    <tr>\n",
       "      <th>1</th>\n",
       "      <td>2010</td>\n",
       "      <td>Fiction</td>\n",
       "      <td>4.615000</td>\n",
       "    </tr>\n",
       "    <tr>\n",
       "      <th>2</th>\n",
       "      <td>2011</td>\n",
       "      <td>Fiction</td>\n",
       "      <td>4.619048</td>\n",
       "    </tr>\n",
       "    <tr>\n",
       "      <th>5</th>\n",
       "      <td>2014</td>\n",
       "      <td>Fiction</td>\n",
       "      <td>4.631034</td>\n",
       "    </tr>\n",
       "    <tr>\n",
       "      <th>6</th>\n",
       "      <td>2015</td>\n",
       "      <td>Fiction</td>\n",
       "      <td>4.652941</td>\n",
       "    </tr>\n",
       "  </tbody>\n",
       "</table>\n",
       "</div>"
      ],
      "text/plain": [
       "   Year    Genre  Mean User Rating\n",
       "0  2009  Fiction          4.591667\n",
       "1  2010  Fiction          4.615000\n",
       "2  2011  Fiction          4.619048\n",
       "5  2014  Fiction          4.631034\n",
       "6  2015  Fiction          4.652941"
      ]
     },
     "execution_count": 445,
     "metadata": {},
     "output_type": "execute_result"
    }
   ],
   "source": [
    "sol3_.head(5)"
   ]
  },
  {
   "cell_type": "markdown",
   "id": "60b48070-f861-4864-87a8-8085ead92350",
   "metadata": {},
   "source": [
    "Cuales son los autores que por lo menos dos años consecutivos hayan tenido en promedio ratings que decrecen \n",
    "\n",
    "Ejemplo\n",
    "\n",
    "- Si Uayeb caballero, en 2010 saco dos libros, y el rating de esos dos libros es de 3.1, ese mismo autor en 2011 en su unico libro publicado ese año su promedio fue de 2.9 y en 2012 sus tres libros publicados en promedio su rating es de 2.8. Podemos ver que son dos años que este usuario ha ido decreciendo \n",
    "\n",
    "No importa que haya publicado en años salteados, ejemplo, 2010 si, 2011 no, 2012 no, 2013 si, 2014 si. para este caso el analisis comienza en 2010, 2013 y 2014\n",
    "\n",
    "Ejemplo de salida esperada:"
   ]
  },
  {
   "cell_type": "code",
   "execution_count": 24,
   "id": "c39c8a7d-e450-4d08-a7a6-654575251d73",
   "metadata": {},
   "outputs": [
    {
     "data": {
      "text/html": [
       "<div>\n",
       "<style scoped>\n",
       "    .dataframe tbody tr th:only-of-type {\n",
       "        vertical-align: middle;\n",
       "    }\n",
       "\n",
       "    .dataframe tbody tr th {\n",
       "        vertical-align: top;\n",
       "    }\n",
       "\n",
       "    .dataframe thead th {\n",
       "        text-align: right;\n",
       "    }\n",
       "</style>\n",
       "<table border=\"1\" class=\"dataframe\">\n",
       "  <thead>\n",
       "    <tr style=\"text-align: right;\">\n",
       "      <th></th>\n",
       "      <th>autores</th>\n",
       "    </tr>\n",
       "  </thead>\n",
       "  <tbody>\n",
       "    <tr>\n",
       "      <th>0</th>\n",
       "      <td>Uayeb</td>\n",
       "    </tr>\n",
       "    <tr>\n",
       "      <th>1</th>\n",
       "      <td>Imix</td>\n",
       "    </tr>\n",
       "  </tbody>\n",
       "</table>\n",
       "</div>"
      ],
      "text/plain": [
       "  autores\n",
       "0   Uayeb\n",
       "1    Imix"
      ]
     },
     "execution_count": 24,
     "metadata": {},
     "output_type": "execute_result"
    }
   ],
   "source": [
    "pd.DataFrame({ \"autores\" : ['Uayeb','Imix'] })"
   ]
  },
  {
   "cell_type": "code",
   "execution_count": 291,
   "id": "ed226f21-c3c0-4326-86ba-ddd5e6039b10",
   "metadata": {},
   "outputs": [],
   "source": [
    "sol4_ = amazon.groupby([\"Author\", \"Year\"], as_index = False).agg({ 'User Rating': ['mean'] })"
   ]
  },
  {
   "cell_type": "code",
   "execution_count": 292,
   "id": "ef5ea8f5-b1d9-42bb-8968-42e5d967cf56",
   "metadata": {},
   "outputs": [],
   "source": [
    "sol4_.columns = sol4_.columns.droplevel(1)"
   ]
  },
  {
   "cell_type": "code",
   "execution_count": 293,
   "id": "f2873aa2-7e67-420a-9cda-82eb1600bba6",
   "metadata": {},
   "outputs": [],
   "source": [
    "sol4_.columns = [\"Author\", \"Year\", \"Mean Rating\"]"
   ]
  },
  {
   "cell_type": "code",
   "execution_count": 294,
   "id": "8fecbeb7-4160-4620-915c-73ab068a5f70",
   "metadata": {},
   "outputs": [
    {
     "data": {
      "text/plain": [
       "Index(['Author', 'Year', 'Mean Rating'], dtype='object')"
      ]
     },
     "execution_count": 294,
     "metadata": {},
     "output_type": "execute_result"
    }
   ],
   "source": [
    "sol4_.columns"
   ]
  },
  {
   "cell_type": "code",
   "execution_count": 295,
   "id": "a87f48c6-ee2d-4968-a30d-2b964e12464d",
   "metadata": {},
   "outputs": [],
   "source": [
    "dfDecadencia = pd.DataFrame()"
   ]
  },
  {
   "cell_type": "code",
   "execution_count": 296,
   "id": "292634e8-bae7-4a5e-9494-5be668729597",
   "metadata": {},
   "outputs": [],
   "source": [
    "for author_ in amazon.loc[:, 'Author'].drop_duplicates():\n",
    "    dataAuthor = sol4_.loc[sol4_['Author'] == author_, :]\n",
    "    ratingTMP = 0\n",
    "    contador = 0\n",
    "    for mean_rating in dataAuthor.loc[:, 'Mean Rating']:\n",
    "        if mean_rating < ratingTMP:\n",
    "            contador = contador + 1\n",
    "        ratingTMP = mean_rating\n",
    "    if contador >= 2:\n",
    "        dfDecadencia = pd.concat([dfDecadencia, dataAuthor['Author']])"
   ]
  },
  {
   "cell_type": "code",
   "execution_count": 298,
   "id": "9bb03600-76b1-4975-96b9-2bb286ff58ab",
   "metadata": {},
   "outputs": [],
   "source": [
    "dfDecadencia.columns = [\"Author\"]"
   ]
  },
  {
   "cell_type": "code",
   "execution_count": 300,
   "id": "50de1b12-f4a7-4a31-916a-2d2151af4a7e",
   "metadata": {},
   "outputs": [],
   "source": [
    "dfDecadencia = dfDecadencia.drop_duplicates()"
   ]
  },
  {
   "cell_type": "code",
   "execution_count": 301,
   "id": "6681a8fb-b677-4770-8039-ed75e7324d91",
   "metadata": {},
   "outputs": [
    {
     "data": {
      "text/html": [
       "<div>\n",
       "<style scoped>\n",
       "    .dataframe tbody tr th:only-of-type {\n",
       "        vertical-align: middle;\n",
       "    }\n",
       "\n",
       "    .dataframe tbody tr th {\n",
       "        vertical-align: top;\n",
       "    }\n",
       "\n",
       "    .dataframe thead th {\n",
       "        text-align: right;\n",
       "    }\n",
       "</style>\n",
       "<table border=\"1\" class=\"dataframe\">\n",
       "  <thead>\n",
       "    <tr style=\"text-align: right;\">\n",
       "      <th></th>\n",
       "      <th>Author</th>\n",
       "    </tr>\n",
       "  </thead>\n",
       "  <tbody>\n",
       "    <tr>\n",
       "      <th>85</th>\n",
       "      <td>Charlaine Harris</td>\n",
       "    </tr>\n",
       "    <tr>\n",
       "      <th>60</th>\n",
       "      <td>Bill O'Reilly</td>\n",
       "    </tr>\n",
       "  </tbody>\n",
       "</table>\n",
       "</div>"
      ],
      "text/plain": [
       "              Author\n",
       "85  Charlaine Harris\n",
       "60     Bill O'Reilly"
      ]
     },
     "execution_count": 301,
     "metadata": {},
     "output_type": "execute_result"
    }
   ],
   "source": [
    "dfDecadencia"
   ]
  },
  {
   "cell_type": "markdown",
   "id": "7d105f63-e0f9-4f35-a454-71fffa333715",
   "metadata": {},
   "source": [
    "Cuales son los libros que por año se encuentran arriba del percentil 70. (Sin importar genero)\n",
    "\n",
    "Ejemplo de salida esperada"
   ]
  },
  {
   "cell_type": "code",
   "execution_count": 26,
   "id": "5d0c2166-673b-4552-956e-4abef9fac1dd",
   "metadata": {},
   "outputs": [
    {
     "data": {
      "text/html": [
       "<div>\n",
       "<style scoped>\n",
       "    .dataframe tbody tr th:only-of-type {\n",
       "        vertical-align: middle;\n",
       "    }\n",
       "\n",
       "    .dataframe tbody tr th {\n",
       "        vertical-align: top;\n",
       "    }\n",
       "\n",
       "    .dataframe thead th {\n",
       "        text-align: right;\n",
       "    }\n",
       "</style>\n",
       "<table border=\"1\" class=\"dataframe\">\n",
       "  <thead>\n",
       "    <tr style=\"text-align: right;\">\n",
       "      <th></th>\n",
       "      <th>Year</th>\n",
       "      <th>Titulos</th>\n",
       "      <th>Autor</th>\n",
       "      <th>Rating</th>\n",
       "      <th>Rating .70</th>\n",
       "    </tr>\n",
       "  </thead>\n",
       "  <tbody>\n",
       "    <tr>\n",
       "      <th>0</th>\n",
       "      <td>2010</td>\n",
       "      <td>Libro A</td>\n",
       "      <td>Autor 1</td>\n",
       "      <td>4.1</td>\n",
       "      <td>3.8</td>\n",
       "    </tr>\n",
       "    <tr>\n",
       "      <th>1</th>\n",
       "      <td>2010</td>\n",
       "      <td>Libro B</td>\n",
       "      <td>Autor 2</td>\n",
       "      <td>4.0</td>\n",
       "      <td>3.8</td>\n",
       "    </tr>\n",
       "    <tr>\n",
       "      <th>2</th>\n",
       "      <td>2011</td>\n",
       "      <td>Libro Z</td>\n",
       "      <td>Autor 1</td>\n",
       "      <td>4.2</td>\n",
       "      <td>3.7</td>\n",
       "    </tr>\n",
       "    <tr>\n",
       "      <th>3</th>\n",
       "      <td>2011</td>\n",
       "      <td>Libro Y</td>\n",
       "      <td>Autor 3</td>\n",
       "      <td>4.3</td>\n",
       "      <td>3.7</td>\n",
       "    </tr>\n",
       "  </tbody>\n",
       "</table>\n",
       "</div>"
      ],
      "text/plain": [
       "   Year  Titulos    Autor  Rating  Rating .70\n",
       "0  2010  Libro A  Autor 1     4.1         3.8\n",
       "1  2010  Libro B  Autor 2     4.0         3.8\n",
       "2  2011  Libro Z  Autor 1     4.2         3.7\n",
       "3  2011  Libro Y  Autor 3     4.3         3.7"
      ]
     },
     "execution_count": 26,
     "metadata": {},
     "output_type": "execute_result"
    }
   ],
   "source": [
    "pd.DataFrame({\n",
    "    \"Year\": [2010,2010,2011,2011]\n",
    "    , \"Titulos\": [\"Libro A\",\"Libro B\",\"Libro Z\",\"Libro Y\"]\n",
    "    , \"Autor\": [\"Autor 1\",\"Autor 2\",\"Autor 1\",\"Autor 3\"]\n",
    "    , \"Rating\": [4.1, 4.0,4.2,4.3]\n",
    "    , \"Rating .70\": [3.8,3.8,3.7,3.7]\n",
    "})"
   ]
  },
  {
   "cell_type": "markdown",
   "id": "46f24c8f-a555-4658-934f-48a972a2e326",
   "metadata": {},
   "source": [
    "Este ejemplo es para que se haga una idea de la estructura de salida esperada, claramente por año dependiendo de las publicaciones pueden haber varios libros arriba del percentil 70\n"
   ]
  },
  {
   "cell_type": "code",
   "execution_count": 422,
   "id": "0313d0a8-2c1e-4272-9b9c-afad1422bbb2",
   "metadata": {},
   "outputs": [],
   "source": [
    "sol5_ = amazon.loc[:, [\"Author\", \"Name\", \"Year\", \"User Rating\"]]"
   ]
  },
  {
   "cell_type": "code",
   "execution_count": 423,
   "id": "8ea655be-3231-4512-97f0-933b525b3aca",
   "metadata": {},
   "outputs": [],
   "source": [
    "sol5_ = sol5_.sort_values([\"Year\", \"Author\"], ascending = [True, True])"
   ]
  },
  {
   "cell_type": "code",
   "execution_count": 424,
   "id": "5f00a664-8861-4441-8cb0-25f3a8931e9c",
   "metadata": {},
   "outputs": [],
   "source": [
    "Percentiles = sol5_.groupby('Year', as_index = False)['User Rating'].quantile(0.7)"
   ]
  },
  {
   "cell_type": "code",
   "execution_count": 425,
   "id": "63ebaba8-2446-4989-a14a-2488357ff2b3",
   "metadata": {},
   "outputs": [
    {
     "data": {
      "text/html": [
       "<div>\n",
       "<style scoped>\n",
       "    .dataframe tbody tr th:only-of-type {\n",
       "        vertical-align: middle;\n",
       "    }\n",
       "\n",
       "    .dataframe tbody tr th {\n",
       "        vertical-align: top;\n",
       "    }\n",
       "\n",
       "    .dataframe thead th {\n",
       "        text-align: right;\n",
       "    }\n",
       "</style>\n",
       "<table border=\"1\" class=\"dataframe\">\n",
       "  <thead>\n",
       "    <tr style=\"text-align: right;\">\n",
       "      <th></th>\n",
       "      <th>Year</th>\n",
       "      <th>User Rating</th>\n",
       "    </tr>\n",
       "  </thead>\n",
       "  <tbody>\n",
       "    <tr>\n",
       "      <th>0</th>\n",
       "      <td>2009</td>\n",
       "      <td>4.70</td>\n",
       "    </tr>\n",
       "    <tr>\n",
       "      <th>1</th>\n",
       "      <td>2010</td>\n",
       "      <td>4.70</td>\n",
       "    </tr>\n",
       "    <tr>\n",
       "      <th>2</th>\n",
       "      <td>2011</td>\n",
       "      <td>4.70</td>\n",
       "    </tr>\n",
       "    <tr>\n",
       "      <th>3</th>\n",
       "      <td>2012</td>\n",
       "      <td>4.70</td>\n",
       "    </tr>\n",
       "    <tr>\n",
       "      <th>4</th>\n",
       "      <td>2013</td>\n",
       "      <td>4.73</td>\n",
       "    </tr>\n",
       "    <tr>\n",
       "      <th>5</th>\n",
       "      <td>2014</td>\n",
       "      <td>4.80</td>\n",
       "    </tr>\n",
       "    <tr>\n",
       "      <th>6</th>\n",
       "      <td>2015</td>\n",
       "      <td>4.80</td>\n",
       "    </tr>\n",
       "    <tr>\n",
       "      <th>7</th>\n",
       "      <td>2016</td>\n",
       "      <td>4.80</td>\n",
       "    </tr>\n",
       "    <tr>\n",
       "      <th>8</th>\n",
       "      <td>2017</td>\n",
       "      <td>4.80</td>\n",
       "    </tr>\n",
       "    <tr>\n",
       "      <th>9</th>\n",
       "      <td>2018</td>\n",
       "      <td>4.80</td>\n",
       "    </tr>\n",
       "    <tr>\n",
       "      <th>10</th>\n",
       "      <td>2019</td>\n",
       "      <td>4.80</td>\n",
       "    </tr>\n",
       "    <tr>\n",
       "      <th>11</th>\n",
       "      <td>2020</td>\n",
       "      <td>4.80</td>\n",
       "    </tr>\n",
       "    <tr>\n",
       "      <th>12</th>\n",
       "      <td>2021</td>\n",
       "      <td>4.80</td>\n",
       "    </tr>\n",
       "  </tbody>\n",
       "</table>\n",
       "</div>"
      ],
      "text/plain": [
       "    Year  User Rating\n",
       "0   2009         4.70\n",
       "1   2010         4.70\n",
       "2   2011         4.70\n",
       "3   2012         4.70\n",
       "4   2013         4.73\n",
       "5   2014         4.80\n",
       "6   2015         4.80\n",
       "7   2016         4.80\n",
       "8   2017         4.80\n",
       "9   2018         4.80\n",
       "10  2019         4.80\n",
       "11  2020         4.80\n",
       "12  2021         4.80"
      ]
     },
     "execution_count": 425,
     "metadata": {},
     "output_type": "execute_result"
    }
   ],
   "source": [
    "Percentiles"
   ]
  },
  {
   "cell_type": "code",
   "execution_count": 427,
   "id": "7a3aaac8-edd5-4782-a11d-ddc33fc1bb52",
   "metadata": {},
   "outputs": [
    {
     "data": {
      "text/plain": [
       "4.8"
      ]
     },
     "execution_count": 427,
     "metadata": {},
     "output_type": "execute_result"
    }
   ],
   "source": [
    "## Haciendo uso de numpy para verificar lo obtenido para 2021\n",
    "datatmp =  sol5_[sol5_['Year'] == 2021] ##\n",
    "perPrueba = np.percentile(datatmp['User Rating'], 70)\n",
    "perPrueba"
   ]
  },
  {
   "cell_type": "code",
   "execution_count": 428,
   "id": "66545ed8-3d26-400f-81c1-1565c27e9966",
   "metadata": {},
   "outputs": [],
   "source": [
    "sol5_ = sol5_.merge(Percentiles, on = \"Year\", how = \"inner\")"
   ]
  },
  {
   "cell_type": "code",
   "execution_count": 429,
   "id": "d0fb2c9b-091f-453b-adc6-ba9f080f56c3",
   "metadata": {},
   "outputs": [],
   "source": [
    "sol5_.columns = [\"Autor\", \"Titulos\", \"Year\", \"Rating\", \"Rating .70\"]"
   ]
  },
  {
   "cell_type": "code",
   "execution_count": 430,
   "id": "3cfb3db3-f566-4e0a-9100-3ca35f1188cb",
   "metadata": {},
   "outputs": [],
   "source": [
    "result = sol5_.loc[ sol5_['Rating'] > sol5_['Rating .70'], [\"Year\", \"Titulos\", \"Autor\", \"Rating\", \"Rating .70\"] ]"
   ]
  },
  {
   "cell_type": "code",
   "execution_count": 431,
   "id": "0c2a421f-b723-4fb9-a4ce-69f6d19c84d3",
   "metadata": {},
   "outputs": [
    {
     "data": {
      "text/plain": [
       "(11, 5)"
      ]
     },
     "execution_count": 431,
     "metadata": {},
     "output_type": "execute_result"
    }
   ],
   "source": [
    "result[result['Year'] == 2009].shape"
   ]
  },
  {
   "cell_type": "code",
   "execution_count": 432,
   "id": "839a2a4d-edde-4837-9cf2-21473c8c8453",
   "metadata": {},
   "outputs": [
    {
     "data": {
      "text/plain": [
       "(50, 5)"
      ]
     },
     "execution_count": 432,
     "metadata": {},
     "output_type": "execute_result"
    }
   ],
   "source": [
    "sol5_[sol5_['Year'] == 2009].shape"
   ]
  },
  {
   "cell_type": "code",
   "execution_count": 439,
   "id": "77016a2a-9d6f-4cc0-a0db-e15f3c690348",
   "metadata": {},
   "outputs": [
    {
     "data": {
      "text/plain": [
       "(109, 5)"
      ]
     },
     "execution_count": 439,
     "metadata": {},
     "output_type": "execute_result"
    }
   ],
   "source": [
    "result.shape"
   ]
  },
  {
   "cell_type": "code",
   "execution_count": 438,
   "id": "28901464-826a-4d93-91bf-aff6084cefcd",
   "metadata": {},
   "outputs": [
    {
     "data": {
      "text/html": [
       "<div>\n",
       "<style scoped>\n",
       "    .dataframe tbody tr th:only-of-type {\n",
       "        vertical-align: middle;\n",
       "    }\n",
       "\n",
       "    .dataframe tbody tr th {\n",
       "        vertical-align: top;\n",
       "    }\n",
       "\n",
       "    .dataframe thead th {\n",
       "        text-align: right;\n",
       "    }\n",
       "</style>\n",
       "<table border=\"1\" class=\"dataframe\">\n",
       "  <thead>\n",
       "    <tr style=\"text-align: right;\">\n",
       "      <th></th>\n",
       "      <th>Year</th>\n",
       "      <th>Titulos</th>\n",
       "      <th>Autor</th>\n",
       "      <th>Rating</th>\n",
       "      <th>Rating .70</th>\n",
       "    </tr>\n",
       "  </thead>\n",
       "  <tbody>\n",
       "    <tr>\n",
       "      <th>0</th>\n",
       "      <td>2009</td>\n",
       "      <td>Watchmen</td>\n",
       "      <td>Alan Moore</td>\n",
       "      <td>4.8</td>\n",
       "      <td>4.7</td>\n",
       "    </tr>\n",
       "    <tr>\n",
       "      <th>18</th>\n",
       "      <td>2009</td>\n",
       "      <td>Diary of a Wimpy Kid: The Last Straw (Book 3)</td>\n",
       "      <td>Jeff Kinney</td>\n",
       "      <td>4.8</td>\n",
       "      <td>4.7</td>\n",
       "    </tr>\n",
       "    <tr>\n",
       "      <th>19</th>\n",
       "      <td>2009</td>\n",
       "      <td>Dog Days (Diary of a Wimpy Kid, Book 4) (Volum...</td>\n",
       "      <td>Jeff Kinney</td>\n",
       "      <td>4.8</td>\n",
       "      <td>4.7</td>\n",
       "    </tr>\n",
       "    <tr>\n",
       "      <th>21</th>\n",
       "      <td>2009</td>\n",
       "      <td>Mastering the Art of French Cooking, Vol. 2</td>\n",
       "      <td>Julia Child</td>\n",
       "      <td>4.8</td>\n",
       "      <td>4.7</td>\n",
       "    </tr>\n",
       "    <tr>\n",
       "      <th>22</th>\n",
       "      <td>2009</td>\n",
       "      <td>The Help</td>\n",
       "      <td>Kathryn Stockett</td>\n",
       "      <td>4.8</td>\n",
       "      <td>4.7</td>\n",
       "    </tr>\n",
       "  </tbody>\n",
       "</table>\n",
       "</div>"
      ],
      "text/plain": [
       "    Year                                            Titulos             Autor  \\\n",
       "0   2009                                           Watchmen        Alan Moore   \n",
       "18  2009      Diary of a Wimpy Kid: The Last Straw (Book 3)       Jeff Kinney   \n",
       "19  2009  Dog Days (Diary of a Wimpy Kid, Book 4) (Volum...       Jeff Kinney   \n",
       "21  2009        Mastering the Art of French Cooking, Vol. 2       Julia Child   \n",
       "22  2009                                           The Help  Kathryn Stockett   \n",
       "\n",
       "    Rating  Rating .70  \n",
       "0      4.8         4.7  \n",
       "18     4.8         4.7  \n",
       "19     4.8         4.7  \n",
       "21     4.8         4.7  \n",
       "22     4.8         4.7  "
      ]
     },
     "execution_count": 438,
     "metadata": {},
     "output_type": "execute_result"
    }
   ],
   "source": [
    "result.head(5)"
   ]
  }
 ],
 "metadata": {
  "kernelspec": {
   "display_name": "Python 3 (ipykernel)",
   "language": "python",
   "name": "python3"
  },
  "language_info": {
   "codemirror_mode": {
    "name": "ipython",
    "version": 3
   },
   "file_extension": ".py",
   "mimetype": "text/x-python",
   "name": "python",
   "nbconvert_exporter": "python",
   "pygments_lexer": "ipython3",
   "version": "3.9.12"
  }
 },
 "nbformat": 4,
 "nbformat_minor": 5
}
